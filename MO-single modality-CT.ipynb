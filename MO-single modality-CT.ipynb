{
 "cells": [
  {
   "cell_type": "code",
   "execution_count": 6,
   "metadata": {},
   "outputs": [],
   "source": [
    "import nibabel as nib \n",
    "#! pip install nibabel --user\n",
    "import os\n",
    "import glob\n",
    "import numpy as np\n",
    "from nibabel.testing import data_path\n",
    "import matplotlib.pyplot as plt\n",
    "#import cv2\n",
    "#! pip install cv2 --user\n",
    "import time\n",
    "from datetime import datetime\n",
    "from torch.utils.data import Dataset\n",
    "import torch\n",
    "import torch.nn as nn\n",
    "import torch.optim as optim\n",
    "from scipy.ndimage import zoom\n",
    "import pandas as pd\n",
    "import os\n",
    "from skimage.io import imread\n",
    "from skimage.color import gray2rgb\n",
    "import torch.nn.functional as F\n",
    "from sklearn.model_selection import train_test_split\n",
    "import torchvision as tv\n",
    "from torch.utils.data import (\n",
    "    Dataset,\n",
    "    DataLoader,\n",
    ")\n",
    "import matplotlib.pyplot as plt\n",
    "from torch.utils import data as DT\n",
    "from skimage.transform import radon , iradon\n",
    "%matplotlib inline\n",
    "!pip install livelossplot --quiet\n",
    "from livelossplot import PlotLosses\n",
    "from sklearn.metrics import r2_score , mean_squared_error\n",
    "from sklearn import metrics"
   ]
  },
  {
   "cell_type": "code",
   "execution_count": 7,
   "metadata": {},
   "outputs": [],
   "source": [
    "###pad function to resize all images to specific size (here: 64*64*64)\n",
    "\n",
    "def pad(img_,size_):\n",
    "    dif=size_-img_.shape[0]\n",
    "    if dif%2==0:\n",
    "        img_=np.pad(img_,((dif//2,dif//2),(0,0),(0,0)),'edge')\n",
    "    else:\n",
    "        img_=np.pad(img_,(((dif-1)//2,(dif+1)//2),(0,0),(0,0)),'edge')\n",
    "    dif=size_-img_.shape[1]\n",
    "    if dif%2==0:\n",
    "        img_=np.pad(img_,((0,0),(dif//2,dif//2),(0,0)),'edge')\n",
    "    else:\n",
    "        img_=np.pad(img_,((0,0),((dif-1)//2,(dif+1)//2),(0,0)),'edge')\n",
    "    dif=size_-img_.shape[2]\n",
    "    if dif%2==0:\n",
    "        img_=np.pad(img_,((0,0),(0,0),(dif//2,dif//2)),'edge')\n",
    "    else:\n",
    "        img_=np.pad(img_,((0,0),(0,0),((dif-1)//2,(dif+1)//2)),'edge')\n",
    "    return img_"
   ]
  },
  {
   "cell_type": "code",
   "execution_count": 8,
   "metadata": {},
   "outputs": [],
   "source": [
    "# method to save the model\n",
    "def save_checkpoint(state, filename=\"my_checkpoint1.pth.tar\"):\n",
    "    print(\"=> Saving checkpoint\")\n",
    "    torch.save(state, filename)\n",
    "\n",
    "#method to load the saved checkpoint\n",
    "def load_checkpoint(checkpoint, model, optimizer):\n",
    "    print(\"=> Loading checkpoint\")\n",
    "    model.load_state_dict(checkpoint[\"state_dict\"])\n",
    "    optimizer.load_state_dict(checkpoint[\"optimizer\"])"
   ]
  },
  {
   "cell_type": "code",
   "execution_count": 10,
   "metadata": {},
   "outputs": [],
   "source": [
    "#load all PET and segmentation images(these images are already resampled and have the size of [almost] 64*64*64)\n",
    "#and add padding if needed\n",
    "\n",
    "path = 'D:\\\\Master_courses\\\\Praktikum\\\\challenge\\\\hecktor\\\\data\\\\resampled\\\\'\n",
    "\n",
    "files = [f for f in glob.glob(path + \"**/*_ct_gtvt.nii.gz\", recursive=True)]\n",
    "labels_lenght=list()\n",
    "image_list=list()\n",
    "label_list=list()\n",
    "CT_list=list()\n",
    "\n",
    "for idx,f in enumerate(files):\n",
    "    SEG_img = nib.load(f)\n",
    "    SEG_data = SEG_img.get_fdata()\n",
    "    if SEG_data.shape!=(64,64,64):\n",
    "        SEG_data=pad(SEG_data,64)\n",
    "    label_list.append(SEG_data)\n",
    "    path=f[:-15]+'_pt.nii.gz'\n",
    "    im=nib.load(path)\n",
    "    PET_data=im.get_fdata()\n",
    "    if PET_data.shape!=(64,64,64):\n",
    "        PET_data=pad(PET_data,64)\n",
    "    image_list.append(PET_data)\n",
    "    path=f[:-15]+'_ct.nii.gz'\n",
    "    im=nib.load(path)\n",
    "    CT_data=im.get_fdata()\n",
    "    if CT_data.shape!=(64,64,64):\n",
    "        CT_data=pad(CT_data,64)\n",
    "    CT_data=np.clip(CT_data, -100, 200) #window to [-100,200]\n",
    "    CT_list.append(CT_data)\n",
    "    #print(idx)\n"
   ]
  },
  {
   "cell_type": "code",
   "execution_count": 13,
   "metadata": {},
   "outputs": [
    {
     "name": "stdout",
     "output_type": "stream",
     "text": [
      "(64, 64, 64)\n"
     ]
    }
   ],
   "source": [
    "print (image_list[0].shape) # shape of each image"
   ]
  },
  {
   "cell_type": "code",
   "execution_count": 24,
   "metadata": {},
   "outputs": [],
   "source": [
    "#make label patch of 16*16*16\n",
    "\n",
    "size = 16 # patch size\n",
    "stride = 16 # patch stride\n",
    "\n",
    "all_labels_1=list()\n",
    "all_labels_2=list()\n",
    "all_labels_num=list()\n",
    "all_seg_img=list()\n",
    "\n",
    "for seg_img in label_list:\n",
    "    #positive_cells_number=np.sum(seg_img)\n",
    "    #print(\"positive_cells_number\",positive_cells_number)\n",
    "    patches = torch.from_numpy(seg_img).unfold(1, size, stride).unfold(2, size, stride)\n",
    "    reshaped_patches=patches.reshape(-1,size,size)\n",
    "    #labels_1=(torch.sum(reshaped_patches , dim=(1,2)).int().numpy())/positive_cells_number\n",
    "    labels_2=(torch.sum(reshaped_patches , dim=(1,2)).int().numpy())/(size*size)\n",
    "\n",
    "    #print (\"labels_\", labels_)\n",
    "    #print (\"labels_2\", labels_2)\n",
    "    all_seg_img.append(reshaped_patches)\n",
    "    #all_labels_1.append(labels_1)\n",
    "    all_labels_2.append(labels_2)\n",
    "    all_labels_num.append((torch.sum(reshaped_patches , dim=(1,2)).int().numpy()))\n",
    "all_labels_num=np.asarray(all_labels_num).reshape(-1)\n",
    "#all_labels_1=np.asarray(all_labels_1).reshape(-1)\n",
    "all_labels=np.asarray(all_labels_2).reshape(-1)\n",
    "#all_seg_img=np.asarray(all_seg_img).reshape(-1)\n"
   ]
  },
  {
   "cell_type": "code",
   "execution_count": 25,
   "metadata": {},
   "outputs": [
    {
     "data": {
      "text/plain": [
       "torch.Size([1024, 16, 16])"
      ]
     },
     "execution_count": 25,
     "metadata": {},
     "output_type": "execute_result"
    }
   ],
   "source": [
    "(all_seg_img[199].shape)"
   ]
  },
  {
   "cell_type": "code",
   "execution_count": null,
   "metadata": {},
   "outputs": [],
   "source": []
  },
  {
   "cell_type": "code",
   "execution_count": 26,
   "metadata": {},
   "outputs": [],
   "source": [
    "#make PET_image patch of 16*16*16\n",
    "\n",
    "all_PET_patches=list()\n",
    "for PET_img in image_list:\n",
    "    patches = torch.from_numpy(PET_img).unfold(1, size, stride).unfold(2, size, stride)\n",
    "    reshaped_patches=patches.reshape(-1,size,size).numpy()\n",
    "    all_PET_patches.append(reshaped_patches)\n",
    "all_PET_patches=np.asarray(all_PET_patches).reshape(-1,size,size)"
   ]
  },
  {
   "cell_type": "code",
   "execution_count": 27,
   "metadata": {},
   "outputs": [],
   "source": [
    "#make CT_image patch of 16*16*16\n",
    "\n",
    "all_CT_patches=list()\n",
    "for CT_img in CT_list:\n",
    "    patches = torch.from_numpy(CT_img).unfold(1, size, stride).unfold(2, size, stride)\n",
    "    reshaped_patches=patches.reshape(-1,size,size).numpy()\n",
    "    all_CT_patches.append(reshaped_patches)\n",
    "all_CT_patches=np.asarray(all_CT_patches).reshape(-1,size,size)"
   ]
  },
  {
   "cell_type": "code",
   "execution_count": 28,
   "metadata": {},
   "outputs": [
    {
     "data": {
      "image/png": "[encoded data removed]",
      "text/plain": [
       "<Figure size 432x288 with 7 Axes>"
      ]
     },
     "metadata": {
      "needs_background": "light"
     },
     "output_type": "display_data"
    }
   ],
   "source": [
    "fig = plt.figure()\n",
    "a = fig.add_subplot(1, 7, 1)\n",
    "imgplot = plt.imshow(all_PET_patches[597],cmap='gray')\n",
    "a = fig.add_subplot(1, 7, 2)\n",
    "imgplot = plt.imshow(all_PET_patches[598],cmap='gray')\n",
    "a = fig.add_subplot(1, 7, 3)\n",
    "imgplot = plt.imshow(all_PET_patches[599],cmap='gray')\n",
    "a = fig.add_subplot(1, 7, 4)\n",
    "imgplot = plt.imshow(all_PET_patches[600],cmap='gray')\n",
    "a = fig.add_subplot(1, 7, 5)\n",
    "imgplot = plt.imshow(all_PET_patches[601],cmap='gray')\n",
    "a = fig.add_subplot(1, 7, 6)\n",
    "imgplot = plt.imshow(all_PET_patches[602],cmap='gray')\n",
    "a = fig.add_subplot(1, 7, 7)\n",
    "imgplot = plt.imshow(all_PET_patches[603],cmap='gray')"
   ]
  },
  {
   "cell_type": "code",
   "execution_count": 29,
   "metadata": {},
   "outputs": [
    {
     "data": {
      "image/png": "[encoded data removed]",
      "text/plain": [
       "<Figure size 432x288 with 7 Axes>"
      ]
     },
     "metadata": {
      "needs_background": "light"
     },
     "output_type": "display_data"
    }
   ],
   "source": [
    "fig = plt.figure()\n",
    "a = fig.add_subplot(1, 7, 1)\n",
    "imgplot = plt.imshow(all_seg_img[0][597],cmap='gray')\n",
    "a = fig.add_subplot(1, 7, 2)\n",
    "imgplot = plt.imshow(all_seg_img[0][598],cmap='gray')\n",
    "a = fig.add_subplot(1, 7, 3)\n",
    "imgplot = plt.imshow(all_seg_img[0][599],cmap='gray')\n",
    "a = fig.add_subplot(1, 7, 4)\n",
    "imgplot = plt.imshow(all_seg_img[0][600],cmap='gray')\n",
    "a = fig.add_subplot(1, 7, 5)\n",
    "imgplot = plt.imshow(all_seg_img[0][601],cmap='gray')\n",
    "a = fig.add_subplot(1, 7, 6)\n",
    "imgplot = plt.imshow(all_seg_img[0][602],cmap='gray')\n",
    "a = fig.add_subplot(1, 7, 7)\n",
    "imgplot = plt.imshow(all_seg_img[0][603],cmap='gray')"
   ]
  },
  {
   "cell_type": "code",
   "execution_count": 30,
   "metadata": {},
   "outputs": [
    {
     "data": {
      "image/png": "[encoded data removed]",
      "text/plain": [
       "<Figure size 432x288 with 7 Axes>"
      ]
     },
     "metadata": {
      "needs_background": "light"
     },
     "output_type": "display_data"
    }
   ],
   "source": [
    "fig = plt.figure()\n",
    "a = fig.add_subplot(1, 7, 1)\n",
    "imgplot = plt.imshow(all_CT_patches[597],cmap='gray')\n",
    "a = fig.add_subplot(1, 7, 2)\n",
    "imgplot = plt.imshow(all_CT_patches[598],cmap='gray')\n",
    "a = fig.add_subplot(1, 7, 3)\n",
    "imgplot = plt.imshow(all_CT_patches[599],cmap='gray')\n",
    "a = fig.add_subplot(1, 7, 4)\n",
    "imgplot = plt.imshow(all_CT_patches[600],cmap='gray')\n",
    "a = fig.add_subplot(1, 7, 5)\n",
    "imgplot = plt.imshow(all_CT_patches[601],cmap='gray')\n",
    "a = fig.add_subplot(1, 7, 6)\n",
    "imgplot = plt.imshow(all_CT_patches[602],cmap='gray')\n",
    "a = fig.add_subplot(1, 7, 7)\n",
    "imgplot = plt.imshow(all_CT_patches[603],cmap='gray')"
   ]
  },
  {
   "cell_type": "code",
   "execution_count": 31,
   "metadata": {},
   "outputs": [
    {
     "data": {
      "text/plain": [
       "204800"
      ]
     },
     "execution_count": 31,
     "metadata": {},
     "output_type": "execute_result"
    }
   ],
   "source": [
    "len (all_CT_patches)"
   ]
  },
  {
   "cell_type": "code",
   "execution_count": 32,
   "metadata": {},
   "outputs": [],
   "source": [
    "class HN_Dataset(Dataset):\n",
    "    def __init__(self, transform=tv.transforms.Compose(tv.transforms.ToTensor())):\n",
    "        self.labels = all_labels\n",
    "        self.PET_images=all_PET_patches\n",
    "        self.CT_images=all_CT_patches\n",
    "        self.transform = transform\n",
    "        self.mode='None'\n",
    "    def __len__(self):\n",
    "        return len(all_labels)\n",
    "\n",
    "    def __getitem__(self, idx):\n",
    "\n",
    "        label= torch.from_numpy(np.asarray(self.labels[idx]))\n",
    "        \n",
    "        if self.transform is not None:\n",
    "            #PET_data = self.transform((np.concatenate((all_PET_patches[idx][np.newaxis,:],all_CT_patches[idx][np.newaxis,:]),axis=0)))\n",
    "            #PET_data = ((np.concatenate((all_PET_patches[idx][np.newaxis,:],all_CT_patches[idx][np.newaxis,:]),axis=0)))\n",
    "            PET_data = self.transform(self.CT_images[idx])\n",
    "        return (PET_data, label)"
   ]
  },
  {
   "cell_type": "code",
   "execution_count": 33,
   "metadata": {},
   "outputs": [
    {
     "data": {
      "text/plain": [
       "204800"
      ]
     },
     "execution_count": 33,
     "metadata": {},
     "output_type": "execute_result"
    }
   ],
   "source": [
    "len (all_labels)"
   ]
  },
  {
   "cell_type": "code",
   "execution_count": 42,
   "metadata": {},
   "outputs": [],
   "source": [
    "# Set device\n",
    "device = torch.device(\"cuda\" if torch.cuda.is_available() else \"cpu\")\n",
    "\n",
    "# Hyperparameters\n",
    "\n",
    "num_epochs = 30\n",
    "learning_rate = 5e-4\n",
    "batch_size = 64"
   ]
  },
  {
   "cell_type": "code",
   "execution_count": 43,
   "metadata": {},
   "outputs": [],
   "source": [
    "split_threshold=170000  # to split test and train set (170000 out of 204800 for train set)\n",
    "\n",
    "\n",
    "#print (all_PET_patches.shape) #number of patches * pactch dim1 * patch dim2 * patch dim3\n",
    "\n",
    "CT_patch_mean=np.mean(all_CT_patches[:split_threshold] , axis=(0,1,2))\n",
    "CT_patch_std=np.std(all_CT_patches[:split_threshold] , axis=(0,1,2))\n",
    "\n",
    "\n",
    "# Load Data\n",
    "\n",
    "idx = list(range(len(all_labels)))\n",
    "\n",
    "dataset = HN_Dataset( transform=tv.transforms.ToTensor())\n",
    "train_set = DT.Subset(dataset, idx[:split_threshold])\n",
    "test_set = DT.Subset(dataset, idx[split_threshold:])\n",
    "\n",
    "#train_set, test_set = torch.utils.data.random_split(dataset, [10000, 1800])\n",
    "\n",
    "train_set.transform= tv.transforms.Compose([tv.transforms.RandomHorizontalFlip(),\n",
    "                                            tv.transforms.RandomVerticalFlip(),\n",
    "                                            tv.transforms.ToTensor(),\n",
    "                                            tv.transforms.Normalize(CT_patch_mean, CT_patch_std)\n",
    "                                           ])\n",
    "\n",
    "test_set.transform= tv.transforms.Compose([#tv.transforms.RandomHorizontalFlip(),\n",
    "                                           #tv.transforms.RandomVerticalFlip(),\n",
    "                                           tv.transforms.ToTensor()\n",
    "                                           #tv.transforms.Normalize(PET_patch_mean, PET_patch_std)\n",
    "                                           ])\n",
    "#tv.transforms.RandomRotation(180),\n",
    "\n",
    "train_loader = DataLoader(train_set, batch_size=batch_size, shuffle=True)\n",
    "test_loader = DataLoader(test_set, batch_size=batch_size, shuffle=False)\n"
   ]
  },
  {
   "cell_type": "code",
   "execution_count": 45,
   "metadata": {},
   "outputs": [],
   "source": [
    "class CNN_conv2d(nn.Module):\n",
    "    def __init__(self, in_channels=16, num_classes=1):\n",
    "        super(CNN_conv2d, self).__init__()\n",
    "        self.conv1 = nn.Conv2d(\n",
    "            in_channels=1,\n",
    "            out_channels=16,\n",
    "            kernel_size=(5,5),\n",
    "            stride=(1, 1),\n",
    "            padding=(1, 1),\n",
    "        )\n",
    "        self.conv2 = nn.Conv2d(\n",
    "            in_channels=16,\n",
    "            out_channels=32,\n",
    "            kernel_size=(3 ,3),\n",
    "            stride=(1, 1),\n",
    "            padding=(1, 1),\n",
    "        )\n",
    "        self.conv3 = nn.Conv2d(\n",
    "            in_channels=8,\n",
    "            out_channels=8,\n",
    "            kernel_size=(3 ,3),\n",
    "            stride=(1, 1),\n",
    "            padding=(1, 1),\n",
    "        )\n",
    "        \n",
    "        self.pool = nn.MaxPool2d(kernel_size=(2, 2), stride=(2, 2))\n",
    "        \n",
    "        self.fc1 = nn.Linear(32 * 1 * 1, num_classes)\n",
    "        \n",
    "        self.sig=nn.Sigmoid()\n",
    "        \n",
    "        self.BatchNorm64=nn.BatchNorm2d(64)\n",
    "        self.BatchNorm32=nn.BatchNorm2d(32)\n",
    "        self.BatchNorm8=nn.BatchNorm2d(8)\n",
    "        self.BatchNorm16=nn.BatchNorm2d(16)\n",
    "        self.dropout= nn.Dropout(p=0.1)\n",
    "        \n",
    "        self.initialize_weights()\n",
    "\n",
    "        \n",
    "    def forward(self, x):\n",
    "        x = self.conv1(x)\n",
    "        x = self.BatchNorm16(x)\n",
    "        x = F.leaky_relu(x)\n",
    "        x = self.pool(x)\n",
    "        \n",
    "        x = self.conv2(x)\n",
    "        #x = self.BatchNorm32(x)\n",
    "        x = F.leaky_relu(x)\n",
    "        x = self.pool(x)\n",
    "        x = x.mean([2, 3])\n",
    "        \n",
    "        #x = self.conv3(x)\n",
    "        #x = self.BatchNorm32(x)\n",
    "        #x = F.relu(x)\n",
    "        #x = self.pool(x)\n",
    "        \n",
    "        #x=self.dropout(x)\n",
    "        x = x.reshape(x.shape[0], -1)\n",
    "        x = self.fc1(x)\n",
    "        #x=self.dropout(x)\n",
    "        x=self.sig(x)\n",
    "        return x\n",
    "\n",
    "    \n",
    "\n",
    "    def initialize_weights(self):\n",
    "        for m in self.modules():\n",
    "            if isinstance(m, nn.Conv2d):\n",
    "                nn.init.xavier_normal_(m.weight)\n",
    "\n",
    "                if m.bias is not None:\n",
    "                    nn.init.constant_(m.bias, 0)\n",
    "\n",
    "            elif isinstance(m, nn.Linear):\n",
    "                nn.init.xavier_normal_(m.weight)\n",
    "                nn.init.constant_(m.bias, 0)\n"
   ]
  },
  {
   "cell_type": "code",
   "execution_count": null,
   "metadata": {},
   "outputs": [],
   "source": []
  },
  {
   "cell_type": "code",
   "execution_count": 46,
   "metadata": {},
   "outputs": [],
   "source": [
    "coef_nonzero=1\n",
    "coef_zero=0.25\n",
    "\n",
    "def my_loss(scores, labels):\n",
    "    idx1=np.argwhere(labels.cpu().numpy()==0).ravel()\n",
    "    idx2=np.argwhere(labels.cpu().numpy()!=0).ravel()\n",
    "    \n",
    "    loss1 = torch.mean((scores[idx1] - labels[idx1])**2)\n",
    "    loss2 = torch.mean((scores[idx2] - labels[idx2])**2)\n",
    "    \n",
    "    if len(idx1)==0:\n",
    "        loss1=0\n",
    "        \n",
    "    if len(idx2)==0:\n",
    "        loss2=0\n",
    "    \n",
    "    \n",
    "    loss= ((coef_zero*loss1*len(idx1))+(coef_nonzero*loss2*len(idx2)))/(len(idx1)+len(idx2))\n",
    "\n",
    "    return loss"
   ]
  },
  {
   "cell_type": "code",
   "execution_count": 173,
   "metadata": {},
   "outputs": [
    {
     "data": {
      "image/png": "[encoded data removed]",
      "text/plain": [
       "<Figure size 864x576 with 2 Axes>"
      ]
     },
     "metadata": {
      "needs_background": "light"
     },
     "output_type": "display_data"
    },
    {
     "name": "stdout",
     "output_type": "stream",
     "text": [
      "log MSE loss\n",
      "\ttraining         \t (min:    0.001, max:    0.003, cur:    0.001)\n",
      "\tvalidation       \t (min:    0.002, max:    0.002, cur:    0.002)\n",
      "log MY loss!\n",
      "\ttraining         \t (min:    0.001, max:    0.003, cur:    0.001)\n",
      "\tvalidation       \t (min:    0.003, max:    0.003, cur:    0.003)\n"
     ]
    }
   ],
   "source": [
    "############################## this part is to just observe learning/loss curve. you can skip it.********************\n",
    "#device=torch.device(\"cpu\")\n",
    "# Initialize network\n",
    "model = CNN_conv2d().to(device)\n",
    "liveloss = PlotLosses()\n",
    "\n",
    "# Loss and optimizer\n",
    "criterion=nn.MSELoss()\n",
    "#criterion=my_loss()\n",
    "\n",
    "optimizer = optim.Adam(model.parameters(), lr=learning_rate)\n",
    "\n",
    "load_module=False\n",
    "\n",
    "ref=1\n",
    "\n",
    "dataloaders = {\n",
    "    \"train\": train_loader,\n",
    "    \"validation\": test_loader\n",
    "}\n",
    "\n",
    "# Train Network\n",
    "for epoch in range(num_epochs):\n",
    "    logs = {}\n",
    "    for phase in ['train', 'validation']:\n",
    "\n",
    "        if phase == 'train':\n",
    "            model.train()\n",
    "        else:\n",
    "            model.eval()\n",
    "\n",
    "            \n",
    "        running_MSE_loss = 0.0\n",
    "        running_MY_loss = 0.0\n",
    "        \n",
    "        running_corrects = 0.0\n",
    "\n",
    "        for inputs, labels in dataloaders[phase]:\n",
    "            # Get data to cuda if possible\n",
    "            inputs = inputs.to(device=device)\n",
    "            labels = labels.to(device=device)\n",
    "\n",
    "            # forward\n",
    "            inputs=inputs.float()\n",
    "            scores = model(inputs)\n",
    "            labels=labels.float()\n",
    "            scores=scores.view(-1)\n",
    "\n",
    "            loss = my_loss(scores, labels)\n",
    "            #loss = criterion(scores, labels)           \n",
    "            loss2 = criterion(scores, labels)           \n",
    "            # backward\n",
    "            if phase == 'train':\n",
    "                optimizer.zero_grad()\n",
    "                loss.backward()\n",
    "                # gradient descent or adam step\n",
    "                optimizer.step()\n",
    "            preds=torch.round(scores)\n",
    "    \n",
    "            running_MSE_loss += loss2.detach() * inputs.size(0)\n",
    "            running_MY_loss += loss.detach() * inputs.size(0)\n",
    "            running_corrects += torch.sum(preds == labels.data)\n",
    "            \n",
    "        epoch_MSE_loss = running_MSE_loss / len(dataloaders[phase].dataset)            \n",
    "        epoch_MY_loss = running_MY_loss / len(dataloaders[phase].dataset)\n",
    "        epoch_acc = running_corrects.float() / len(dataloaders[phase].dataset)\n",
    "        \n",
    "        #if phase == 'validation':\n",
    "        #    this_loss=(running_loss / len(dataloaders[phase].dataset)).item()\n",
    "        #    if this_loss<ref:\n",
    "        #        checkpoint = {\"state_dict\": model.state_dict(), \"optimizer\": optimizer.state_dict()}\n",
    "        #        # save checkpoint\n",
    "        #        save_checkpoint(checkpoint)\n",
    "        #        ref=this_loss\n",
    "        #        print (\"epoch {}:loss{}\".format(epoch,ref)) \n",
    "        \n",
    "        prefix = ''\n",
    "        if phase == 'validation':\n",
    "            prefix = 'val_'\n",
    "\n",
    "        logs[prefix + 'log MSE loss'] = epoch_MSE_loss.item()\n",
    "        logs[prefix + 'log MY loss!'] = epoch_MY_loss.item()\n",
    "        #logs[prefix + 'accuracy'] = epoch_acc.item()\n",
    "        \n",
    "    liveloss.update(logs)\n",
    "    liveloss.send()\n",
    "\n"
   ]
  },
  {
   "cell_type": "code",
   "execution_count": 48,
   "metadata": {
    "scrolled": true
   },
   "outputs": [
    {
     "name": "stdout",
     "output_type": "stream",
     "text": [
      "Current Time = 00:22:23\n",
      "Cost at epoch 0 is 0.0014858152532173726\n",
      "Current Time = 00:22:23\n",
      "=> Saving checkpoint\n",
      "Cost at epoch 10 is 0.0007726712627417275\n",
      "Current Time = 00:30:49\n",
      "=> Saving checkpoint\n",
      "Cost at epoch 20 is 0.0006495492221395812\n",
      "Current Time = 00:38:59\n",
      "=> Saving checkpoint\n",
      "Cost at epoch 30 is 0.0005765622277556942\n",
      "Current Time = 00:46:50\n",
      "=> Saving checkpoint\n"
     ]
    }
   ],
   "source": [
    "#MAIN\n",
    "#device = torch.device(\"cpu\")\n",
    "num_epochs = 31\n",
    "# Initialize network\n",
    "\n",
    "model = CNN_conv2d().to(device)\n",
    "\n",
    "# Loss and optimizer\n",
    "criterion=nn.MSELoss()\n",
    "\n",
    "optimizer = optim.Adam(model.parameters(), lr=learning_rate)\n",
    "load_module=False\n",
    "print(\"Current Time =\", datetime.now().strftime(\"%H:%M:%S\")) \n",
    "# Train Network\n",
    "for epoch in range(num_epochs):\n",
    "    now = datetime.now()\n",
    "    if load_module:\n",
    "        # load checkpoint\n",
    "        load_checkpoint(torch.load(\"my_checkpoint1.pth.tar\"), model, optimizer)\n",
    "        load_module=False\n",
    "    losses = []\n",
    "    for batch_idx, (data, targets) in enumerate(train_loader):\n",
    "        # Get data to cuda if possible\n",
    "        data = data.to(device=device)\n",
    "        targets = targets.to(device=device)\n",
    "\n",
    "        # forward\n",
    "        data=data.float()\n",
    "        scores = model(data)\n",
    "        targets=targets.float()\n",
    "        scores=scores.view(-1)\n",
    "\n",
    "        #loss = criterion(scores, targets)\n",
    "        loss = my_loss(scores, targets)\n",
    "        losses.append(loss.item())\n",
    "\n",
    "        # backward\n",
    "        optimizer.zero_grad()\n",
    "        loss.backward()\n",
    "\n",
    "        # gradient descent or adam step\n",
    "        optimizer.step()\n",
    "    if (epoch % 10==0):\n",
    "        print(f\"Cost at epoch {epoch} is {np.sum(losses)/len(losses)}\")\n",
    "        print(\"Current Time =\", now.strftime(\"%H:%M:%S\")) \n",
    "        checkpoint = {\"state_dict\": model.state_dict(), \"optimizer\": optimizer.state_dict()}\n",
    "        # save checkpoint\n",
    "        save_checkpoint(checkpoint)\n",
    "        \n"
   ]
  },
  {
   "cell_type": "code",
   "execution_count": null,
   "metadata": {},
   "outputs": [],
   "source": []
  },
  {
   "cell_type": "code",
   "execution_count": 94,
   "metadata": {},
   "outputs": [],
   "source": [
    "# Check accuracy on training to see how good our model is\n",
    "all_y=list()\n",
    "all_pred=list()\n",
    "def check_accuracy(loader, model, test_set):\n",
    "    _y=list()\n",
    "    _pred=list()\n",
    "    all_non_z=list()\n",
    "    all_z=list()\n",
    "\n",
    "    total_mse=0\n",
    "    total_my_loss=0\n",
    "    model.eval()\n",
    "    idx=0\n",
    "    with torch.no_grad():\n",
    "        for x, y in loader:\n",
    "            x = x.to(device=device)\n",
    "            y = y.to(device=device)\n",
    "            x=x.float()\n",
    "            scores = model(x)\n",
    "            predictions=scores\n",
    "            ML=my_loss((predictions),y)\n",
    "            total_my_loss=total_my_loss+ML\n",
    "            MSE=mean_squared_error(np.ravel(predictions.cpu().numpy()),np.ravel(y.cpu().numpy()))\n",
    "            total_mse=total_mse+MSE\n",
    "            idx=idx+1\n",
    "            \n",
    "            idx1=np.argwhere(y.cpu().numpy()!=0).ravel()\n",
    "            non_z=torch.mean(scores[idx1])\n",
    "            all_non_z.append(non_z.cpu().numpy())\n",
    "            \n",
    "            idx2=np.argwhere(y.cpu().numpy()==0).ravel()\n",
    "            _z=torch.mean(scores[idx2])\n",
    "            all_z.append(_z.cpu().numpy())\n",
    "            \n",
    "            \n",
    "            _y.append(np.ceil(y.cpu().numpy().ravel()))\n",
    "            _pred.append(predictions.cpu().numpy().ravel())\n",
    "            \n",
    "            \n",
    "            if test_set:\n",
    "                \n",
    "                np.set_printoptions(formatter={'float': '{: 0.3f}'.format})\n",
    "                print (\"labels:       \",np.ravel(y.cpu().numpy()))\n",
    "                print (\"predictions:  \",np.ravel((predictions.cpu().numpy())))\n",
    "                print (\"mean_squared_error\",MSE)\n",
    "                #print (\"r2_score\",r2_score(np.ravel(predictions.cpu().numpy()),np.ravel(y.cpu().numpy())))\n",
    "    all_non_z=np.array(all_non_z)\n",
    "    all_non_z[np.isnan(all_non_z)] = 0\n",
    "    print (\"non_zero_labels prediction mean\",np.mean(all_non_z))\n",
    "    \n",
    "    all_z=np.array(all_z)\n",
    "    all_z[np.isnan(all_z)] = 0\n",
    "    print (\"zero_label prediction mean\",np.mean(all_z))\n",
    "    \n",
    "    print (\"total_mse\",total_mse/idx)\n",
    "    print (\"total_my_loss\",total_my_loss.cpu().numpy()/idx) \n",
    "    \n",
    "\n",
    "    fpr, tpr, thresholds = metrics.roc_curve(np.concatenate( _y, axis=0 ),np.concatenate( _pred, axis=0 ))\n",
    "    print (\"AUC\",metrics.auc(fpr, tpr))\n",
    "    all_y.append(_y[:-1])\n",
    "    all_pred.append(_pred[:-1])\n",
    "    model.train()\n"
   ]
  },
  {
   "cell_type": "code",
   "execution_count": 95,
   "metadata": {},
   "outputs": [
    {
     "name": "stdout",
     "output_type": "stream",
     "text": [
      "Checking accuracy on Training Set: original images\n",
      "non_zero_labels prediction mean 0.090476796\n",
      "zero_label prediction mean 0.010899924\n",
      "total_mse 0.001038167390977585\n",
      "total_my_loss 0.000990190946121873\n",
      "AUC 0.8846080579443387\n",
      "Checking accuracy on Test Set: original images\n",
      "non_zero_labels prediction mean 0.024573985\n",
      "zero_label prediction mean 0.013152121\n",
      "total_mse 0.0019226124220754325\n",
      "total_my_loss 0.0018045140472715336\n",
      "AUC 0.8438372811889312\n"
     ]
    }
   ],
   "source": [
    "print(\"Checking accuracy on Training Set: original images\")\n",
    "check_accuracy(train_loader, model ,test_set=False)\n",
    "\n",
    "print(\"Checking accuracy on Test Set: original images\")\n",
    "check_accuracy(test_loader, model, test_set=False)"
   ]
  },
  {
   "cell_type": "code",
   "execution_count": 52,
   "metadata": {},
   "outputs": [],
   "source": [
    "####################if you wanna check all predictions and labels, uncomment following lines\n",
    "#print(\"Checking accuracy on Test Set\")\n",
    "#check_accuracy(test_loader, model, test_set=True)"
   ]
  },
  {
   "cell_type": "code",
   "execution_count": null,
   "metadata": {},
   "outputs": [],
   "source": []
  },
  {
   "cell_type": "code",
   "execution_count": 53,
   "metadata": {},
   "outputs": [],
   "source": [
    "#method to add poisson noise to images\n",
    "\n",
    "def make_noisy_image(image, PEAK=1):\n",
    "    img=np.zeros(image.shape)\n",
    "    for idx, _2d_img in enumerate(image):  \n",
    "        theta = np.linspace(0., 180., max(_2d_img.shape), endpoint=False)\n",
    "        sinogram = radon(_2d_img, theta=theta, circle=False)\n",
    "        sinogram=np.clip(sinogram, 0,None)\n",
    "        noisy = np.random.poisson(sinogram * PEAK)/PEAK  \n",
    "        img[idx] = iradon(noisy, theta=theta, circle=False)\n",
    "        img=np.clip(img, -100, 200)\n",
    "\n",
    "    return img"
   ]
  },
  {
   "cell_type": "code",
   "execution_count": 54,
   "metadata": {},
   "outputs": [],
   "source": [
    "#again load all images, add pading if needed, then add poisson noise for 3 different levels\n",
    "\n",
    "path = 'D:\\\\Master_courses\\\\Praktikum\\\\challenge\\\\hecktor\\\\data\\\\resampled\\\\'\n",
    "#_ct_gtvt.nii.gz\n",
    "#_pt.nii.gz\n",
    "files = [f for f in glob.glob(path + \"**/*_ct.nii.gz\", recursive=True)]\n",
    "noisy_image_list1=list()\n",
    "noisy_image_list2=list()\n",
    "noisy_image_list3=list()\n",
    "\n",
    "for idx,f in enumerate(files):\n",
    "    \n",
    "    im=nib.load(f)\n",
    "    CT_data=im.get_fdata()   \n",
    "    if CT_data.shape!=(64,64,64):\n",
    "        CT_data=pad(CT_data,64)\n",
    "    \n",
    "    CT_data=np.clip(CT_data, -100, 200)\n",
    "    CT_data1=make_noisy_image(CT_data , 0.1)   \n",
    "    noisy_image_list1.append(CT_data1)\n",
    "    CT_data2=make_noisy_image(CT_data , 1)\n",
    "    noisy_image_list2.append(CT_data2)\n",
    "    CT_data3=make_noisy_image(CT_data , 10)   \n",
    "    noisy_image_list3.append(CT_data3)\n",
    "    \n"
   ]
  },
  {
   "cell_type": "code",
   "execution_count": 55,
   "metadata": {},
   "outputs": [
    {
     "data": {
      "image/png": "[encoded data removed]",
      "text/plain": [
       "<Figure size 432x288 with 4 Axes>"
      ]
     },
     "metadata": {
      "needs_background": "light"
     },
     "output_type": "display_data"
    }
   ],
   "source": [
    "fig = plt.figure()\n",
    "a = fig.add_subplot(1, 4, 1)\n",
    "imgplot = plt.imshow(CT_list[0][:,:,50],cmap='gray')\n",
    "a = fig.add_subplot(1, 4, 2)\n",
    "imgplot = plt.imshow(noisy_image_list3[0][:,:,50],cmap='gray')\n",
    "a = fig.add_subplot(1, 4,3)\n",
    "imgplot = plt.imshow(noisy_image_list2[0][:,:,50],cmap='gray')\n",
    "a = fig.add_subplot(1, 4,4)\n",
    "imgplot = plt.imshow(noisy_image_list1[0][:,:,50],cmap='gray')\n"
   ]
  },
  {
   "cell_type": "code",
   "execution_count": 56,
   "metadata": {},
   "outputs": [],
   "source": [
    "#make image patches of size 16*16*16\n",
    "size=16\n",
    "stride=16\n",
    "\n",
    "all_noisy_CT_patches1=list()\n",
    "all_noisy_CT_patches2=list()\n",
    "all_noisy_CT_patches3=list()\n",
    "\n",
    "for CT_img in noisy_image_list1:\n",
    "    patches = torch.from_numpy(CT_img).unfold(1, size, stride).unfold(2, size, stride)\n",
    "    reshaped_patches=patches.reshape(-1,size,size).numpy()\n",
    "    all_noisy_CT_patches1.append(reshaped_patches)\n",
    "all_noisy_CT_patches1=np.asarray(all_noisy_CT_patches1).reshape(-1,size,size)\n",
    "\n",
    "for CT_img in noisy_image_list2:\n",
    "    patches = torch.from_numpy(CT_img).unfold(1, size, stride).unfold(2, size, stride)\n",
    "    reshaped_patches=patches.reshape(-1,size,size).numpy()\n",
    "    all_noisy_CT_patches2.append(reshaped_patches)\n",
    "all_noisy_CT_patches2=np.asarray(all_noisy_CT_patches2).reshape(-1,size,size)\n",
    "\n",
    "for CT_img in noisy_image_list3:\n",
    "    patches = torch.from_numpy(CT_img).unfold(1, size, stride).unfold(2, size, stride)\n",
    "    reshaped_patches=patches.reshape(-1,size,size).numpy()\n",
    "    all_noisy_CT_patches3.append(reshaped_patches)\n",
    "all_noisy_CT_patches3=np.asarray(all_noisy_CT_patches3).reshape(-1,size,size)\n"
   ]
  },
  {
   "cell_type": "code",
   "execution_count": 57,
   "metadata": {},
   "outputs": [],
   "source": [
    "#class dataset of noisy images\n",
    "class noisy_HN_Dataset(Dataset):\n",
    "    def __init__(self,images, transform=tv.transforms.Compose(tv.transforms.ToTensor())):\n",
    "        self.labels = all_labels\n",
    "        self.images=images\n",
    "        self.CT_images=all_CT_patches\n",
    "        self.transform = transform\n",
    "        self.mode='None'\n",
    "    def __len__(self):\n",
    "        return len(all_labels)\n",
    "\n",
    "    def __getitem__(self, idx):\n",
    "\n",
    "        label= torch.from_numpy(np.asarray(self.labels[idx]))\n",
    "        \n",
    "        if self.transform is not None:\n",
    "            #PET_data = self.transform((np.concatenate((all_PET_patches[idx][np.newaxis,:],all_CT_patches[idx][np.newaxis,:]),axis=0)))\n",
    "            #PET_data = ((np.concatenate((self.images[idx][np.newaxis,:],all_CT_patches[idx][np.newaxis,:]),axis=0)))\n",
    "            CT_data = self.transform((self.images[idx]))\n",
    "        return (CT_data, label)"
   ]
  },
  {
   "cell_type": "code",
   "execution_count": 58,
   "metadata": {},
   "outputs": [],
   "source": [
    "#making train and test set for noisy image\n",
    "\n",
    "split_threshold=170000\n",
    "idx = list(range(len(all_labels)))\n",
    "\n",
    "noisy_dataset1 = noisy_HN_Dataset(all_noisy_CT_patches1, transform=tv.transforms.ToTensor())\n",
    "noisy_dataset2 = noisy_HN_Dataset(all_noisy_CT_patches2, transform=tv.transforms.ToTensor())\n",
    "noisy_dataset3 = noisy_HN_Dataset(all_noisy_CT_patches3, transform=tv.transforms.ToTensor())\n",
    "\n",
    "################################ IMPOSTANT ############################################\n",
    "#As I don't use \"randome split\" for splitting test and train set, we can easily compare results of this test set with previous one(no noise test set)\n",
    "noisy_train_set1 = DT.Subset(noisy_dataset1, idx[:split_threshold])\n",
    "noisy_test_set1 = DT.Subset(noisy_dataset1, idx[split_threshold:])\n",
    "\n",
    "noisy_train_set2 = DT.Subset(noisy_dataset2, idx[:split_threshold])\n",
    "noisy_test_set2 = DT.Subset(noisy_dataset2, idx[split_threshold:])\n",
    "\n",
    "noisy_train_set3 = DT.Subset(noisy_dataset3, idx[:split_threshold])\n",
    "noisy_test_set3 = DT.Subset(noisy_dataset3, idx[split_threshold:])\n",
    "\n",
    "######################################################################################\n",
    "\n",
    "CT_patch_mean_noisy1=np.mean(all_noisy_CT_patches1[:split_threshold] , axis=(0,1,2))\n",
    "CT_patch_std_noisy1=np.std(all_noisy_CT_patches1[:split_threshold] , axis=(0,1,2))\n",
    "\n",
    "CT_patch_mean_noisy2=np.mean(all_noisy_CT_patches2[:split_threshold] , axis=(0,1,2))\n",
    "CT_patch_std_noisy2=np.std(all_noisy_CT_patches2[:split_threshold] , axis=(0,1,2))\n",
    "\n",
    "CT_patch_mean_noisy3=np.mean(all_noisy_CT_patches3[:split_threshold] , axis=(0,1,2))\n",
    "CT_patch_std_noisy3=np.std(all_noisy_CT_patches3[:split_threshold] , axis=(0,1,2))\n",
    "\n",
    "#############################################################################################\n",
    "\"\"\"\n",
    "noisy_test_set1.transform= tv.transforms.Compose([tv.transforms.ToTensor(),\n",
    "                                                   tv.transforms.Normalize(PET_patch_mean, PET_patch_std)\n",
    "                                                   ])\n",
    "\n",
    "noisy_test_set2.transform= tv.transforms.Compose([tv.transforms.ToTensor(),\n",
    "                                                   tv.transforms.Normalize(PET_patch_mean, PET_patch_std)\n",
    "                                                   ])\n",
    "\n",
    "noisy_test_set3.transform= tv.transforms.Compose([tv.transforms.ToTensor(),\n",
    "                                                   tv.transforms.Normalize(PET_patch_mean, PET_patch_std)\n",
    "                                                   ])\n",
    "\"\"\"\n",
    "############################################################################################\n",
    "#noisy_train_loader = DataLoader(train_set, batch_size=batch_size, shuffle=True)\n",
    "noisy_test_loader1 = DataLoader(noisy_test_set1, batch_size=batch_size, shuffle=False)\n",
    "noisy_test_loader2 = DataLoader(noisy_test_set2, batch_size=batch_size, shuffle=False)\n",
    "noisy_test_loader3 = DataLoader(noisy_test_set3, batch_size=batch_size, shuffle=False)\n"
   ]
  },
  {
   "cell_type": "code",
   "execution_count": 96,
   "metadata": {},
   "outputs": [
    {
     "name": "stdout",
     "output_type": "stream",
     "text": [
      "**********Checking accuracy on Test Set3: low noise**********\n",
      "non_zero_labels prediction mean 0.016287299\n",
      "zero_label prediction mean 0.064074345\n",
      "total_mse 0.010215215518252059\n",
      "total_my_loss 0.0036846856497907672\n",
      "AUC 0.5566438623164227\n",
      "**********Checking accuracy on Test Set2: mid noise**********\n",
      "non_zero_labels prediction mean 0.015546718\n",
      "zero_label prediction mean 0.06368986\n",
      "total_mse 0.010185242970469341\n",
      "total_my_loss 0.003678942400594647\n",
      "AUC 0.551781667752335\n",
      "**********Checking accuracy on Test Set1: high noise**********\n",
      "non_zero_labels prediction mean 0.011738144\n",
      "zero_label prediction mean 0.060740978\n",
      "total_mse 0.009987102679255679\n",
      "total_my_loss 0.003665555743813256\n",
      "AUC 0.5218278655421652\n"
     ]
    }
   ],
   "source": [
    "print(\"**********Checking accuracy on Test Set3: low noise**********\")\n",
    "check_accuracy(noisy_test_loader3, model, test_set=False)\n",
    "#print(\"**********Checking accuracy on Test Set4**********\")\n",
    "#check_accuracy(noisy_test_loader4, model, test_set=False)\n",
    "print(\"**********Checking accuracy on Test Set2: mid noise**********\")\n",
    "check_accuracy(noisy_test_loader2, model, test_set=False)\n",
    "\n",
    "print(\"**********Checking accuracy on Test Set1: high noise**********\")\n",
    "check_accuracy(noisy_test_loader1, model, test_set=False)"
   ]
  },
  {
   "cell_type": "code",
   "execution_count": 97,
   "metadata": {},
   "outputs": [],
   "source": [
    "####################if you wanna check all predictions and labels, uncomment following lines\n",
    "\n",
    "#print(\"Checking accuracy on Test Set\")\n",
    "#check_accuracy(noisy_test_loader3, model, test_set=True)"
   ]
  },
  {
   "cell_type": "code",
   "execution_count": 98,
   "metadata": {},
   "outputs": [],
   "source": [
    "####################if you wanna check all predictions and labels, uncomment following lines\n",
    "\n",
    "#print(\"Checking accuracy on Test Set\")\n",
    "#check_accuracy(noisy_test_loader2, model, test_set=True)"
   ]
  },
  {
   "cell_type": "code",
   "execution_count": 99,
   "metadata": {},
   "outputs": [],
   "source": [
    "####################if you wanna check all predictions and labels, uncomment following lines\n",
    "\n",
    "#print(\"Checking accuracy on Test Set\")\n",
    "#check_accuracy(noisy_test_loader1, model, test_set=True)"
   ]
  },
  {
   "cell_type": "code",
   "execution_count": 130,
   "metadata": {},
   "outputs": [
    {
     "name": "stdout",
     "output_type": "stream",
     "text": [
      "AUC across all noise levels 0.6267714620386924\n"
     ]
    }
   ],
   "source": [
    "fpr, tpr, thresholds = metrics.roc_curve(np.concatenate(np.concatenate(all_y[1:], axis=0 ),axis=0),np.concatenate(np.concatenate(all_pred[1:], axis=0 ),axis=0))\n",
    "print (\"AUC across all noise levels\",metrics.auc(fpr, tpr))"
   ]
  },
  {
   "cell_type": "code",
   "execution_count": null,
   "metadata": {},
   "outputs": [],
   "source": []
  }
 ],
 "metadata": {
  "kernelspec": {
   "display_name": "Python 3",
   "language": "python",
   "name": "python3"
  },
  "language_info": {
   "codemirror_mode": {
    "name": "ipython",
    "version": 3
   },
   "file_extension": ".py",
   "mimetype": "text/x-python",
   "name": "python",
   "nbconvert_exporter": "python",
   "pygments_lexer": "ipython3",
   "version": "3.7.6"
  }
 },
 "nbformat": 4,
 "nbformat_minor": 2
}
