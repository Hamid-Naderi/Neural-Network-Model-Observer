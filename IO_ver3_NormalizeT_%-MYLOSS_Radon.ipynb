{
 "cells": [
  {
   "cell_type": "code",
   "execution_count": 16,
   "metadata": {},
   "outputs": [],
   "source": [
    "import nibabel as nib \n",
    "#! pip install nibabel --user\n",
    "import os\n",
    "import glob\n",
    "import numpy as np\n",
    "from nibabel.testing import data_path\n",
    "import matplotlib.pyplot as plt\n",
    "#import cv2\n",
    "#! pip install cv2 --user\n",
    "import time\n",
    "from datetime import datetime\n",
    "from torch.utils.data import Dataset\n",
    "import torch\n",
    "import torch.nn as nn\n",
    "import torch.optim as optim\n",
    "from scipy.ndimage import zoom\n",
    "import pandas as pd\n",
    "import os\n",
    "from skimage.io import imread\n",
    "from skimage.color import gray2rgb\n",
    "import torch.nn.functional as F\n",
    "from sklearn.model_selection import train_test_split\n",
    "import torchvision as tv\n",
    "from torch.utils.data import (\n",
    "    Dataset,\n",
    "    DataLoader,\n",
    ")\n",
    "import matplotlib.pyplot as plt\n",
    "from torch.utils import data as DT\n",
    "from skimage.transform import radon , iradon\n",
    "%matplotlib inline\n",
    "!pip install livelossplot --quiet\n",
    "from livelossplot import PlotLosses\n",
    "from sklearn.metrics import r2_score , mean_squared_error"
   ]
  },
  {
   "cell_type": "code",
   "execution_count": 17,
   "metadata": {},
   "outputs": [],
   "source": [
    "###pad function to resize all images to specific size (here: 64*64*64)\n",
    "\n",
    "def pad(img_,size_):\n",
    "    dif=size_-img_.shape[0]\n",
    "    if dif%2==0:\n",
    "        img_=np.pad(img_,((dif//2,dif//2),(0,0),(0,0)),'edge')\n",
    "    else:\n",
    "        img_=np.pad(img_,(((dif-1)//2,(dif+1)//2),(0,0),(0,0)),'edge')\n",
    "    dif=size_-img_.shape[1]\n",
    "    if dif%2==0:\n",
    "        img_=np.pad(img_,((0,0),(dif//2,dif//2),(0,0)),'edge')\n",
    "    else:\n",
    "        img_=np.pad(img_,((0,0),((dif-1)//2,(dif+1)//2),(0,0)),'edge')\n",
    "    dif=size_-img_.shape[2]\n",
    "    if dif%2==0:\n",
    "        img_=np.pad(img_,((0,0),(0,0),(dif//2,dif//2)),'edge')\n",
    "    else:\n",
    "        img_=np.pad(img_,((0,0),(0,0),((dif-1)//2,(dif+1)//2)),'edge')\n",
    "    return img_"
   ]
  },
  {
   "cell_type": "code",
   "execution_count": 18,
   "metadata": {},
   "outputs": [],
   "source": [
    "# method to save the model\n",
    "def save_checkpoint(state, filename=\"my_checkpoint_V3.pth.tar\"):\n",
    "    print(\"=> Saving checkpoint\")\n",
    "    torch.save(state, filename)\n",
    "\n",
    "#method to load the saved checkpoint\n",
    "def load_checkpoint(checkpoint, model, optimizer):\n",
    "    print(\"=> Loading checkpoint\")\n",
    "    model.load_state_dict(checkpoint[\"state_dict\"])\n",
    "    optimizer.load_state_dict(checkpoint[\"optimizer\"])"
   ]
  },
  {
   "cell_type": "code",
   "execution_count": 19,
   "metadata": {},
   "outputs": [],
   "source": [
    "#load all PET and segmentation images(these images are already resampled and have the size of [almost] 64*64*64)\n",
    "#and add padding if needed\n",
    "\n",
    "path = 'D:\\\\Master_courses\\\\Praktikum\\\\challenge\\\\hecktor\\\\data\\\\resampled\\\\'\n",
    "\n",
    "files = [f for f in glob.glob(path + \"**/*_ct_gtvt.nii.gz\", recursive=True)]\n",
    "labels_lenght=list()\n",
    "image_list=list()\n",
    "label_list=list()\n",
    "\n",
    "for idx,f in enumerate(files):\n",
    "    SEG_img = nib.load(f)\n",
    "    SEG_data = SEG_img.get_fdata()\n",
    "    if SEG_data.shape!=(64,64,64):\n",
    "        SEG_data=pad(SEG_data,64)\n",
    "    label_list.append(SEG_data)\n",
    "    path=f[:-15]+'_pt.nii.gz'\n",
    "    im=nib.load(path)\n",
    "    PET_data=im.get_fdata()\n",
    "    if PET_data.shape!=(64,64,64):\n",
    "        PET_data=pad(PET_data,64)\n",
    "    image_list.append(PET_data)\n",
    "    #print(idx)\n"
   ]
  },
  {
   "cell_type": "code",
   "execution_count": 20,
   "metadata": {},
   "outputs": [
    {
     "data": {
      "text/plain": [
       "200"
      ]
     },
     "execution_count": 20,
     "metadata": {},
     "output_type": "execute_result"
    }
   ],
   "source": [
    "len(image_list) # number of patients"
   ]
  },
  {
   "cell_type": "code",
   "execution_count": 21,
   "metadata": {},
   "outputs": [
    {
     "name": "stdout",
     "output_type": "stream",
     "text": [
      "(64, 64, 64)\n"
     ]
    }
   ],
   "source": [
    "print (image_list[0].shape) # shape of each image"
   ]
  },
  {
   "cell_type": "code",
   "execution_count": 22,
   "metadata": {},
   "outputs": [],
   "source": [
    "#make label patch of 16*16*16\n",
    "\n",
    "size = 16 # patch size\n",
    "stride = 16 # patch stride\n",
    "\n",
    "all_labels=list()\n",
    "for seg_img in label_list:\n",
    "    positive_cells_number=np.sum(seg_img)\n",
    "    #print(\"positive_cells_number\",positive_cells_number)\n",
    "    patches = torch.from_numpy(seg_img).unfold(0, size, stride).unfold(1, size, stride).unfold(2, size, stride)\n",
    "    reshaped_patches=patches.reshape(-1,size,size,size)\n",
    "    labels_=(torch.sum(reshaped_patches , dim=(1,2,3)).int().numpy())/positive_cells_number\n",
    "    #print (\"labels_\", labels_)\n",
    "    all_labels.append(labels_)\n",
    "all_labels=np.asarray(all_labels).reshape(-1)"
   ]
  },
  {
   "cell_type": "code",
   "execution_count": 23,
   "metadata": {},
   "outputs": [
    {
     "data": {
      "text/plain": [
       "array([0.        , 0.        , 0.        , 0.        , 0.        ,\n",
       "       0.        , 0.        , 0.        , 0.        , 0.        ,\n",
       "       0.        , 0.        , 0.        , 0.        , 0.        ,\n",
       "       0.        , 0.        , 0.        , 0.        , 0.        ,\n",
       "       0.        , 0.00208671, 0.008115  , 0.        , 0.        ,\n",
       "       0.        , 0.        , 0.        , 0.        , 0.        ,\n",
       "       0.        , 0.        , 0.        , 0.        , 0.00139114,\n",
       "       0.        , 0.        , 0.11245073, 0.69116624, 0.03524229,\n",
       "       0.        , 0.01738929, 0.10479944, 0.00092743, 0.        ,\n",
       "       0.        , 0.        , 0.        , 0.        , 0.        ,\n",
       "       0.        , 0.        , 0.        , 0.        , 0.02643172,\n",
       "       0.        , 0.        , 0.        , 0.        , 0.        ,\n",
       "       0.        , 0.        , 0.        , 0.        ])"
      ]
     },
     "execution_count": 23,
     "metadata": {},
     "output_type": "execute_result"
    }
   ],
   "source": [
    "all_labels[:64] # labels of one patient as an example"
   ]
  },
  {
   "cell_type": "code",
   "execution_count": null,
   "metadata": {},
   "outputs": [],
   "source": []
  },
  {
   "cell_type": "code",
   "execution_count": 24,
   "metadata": {},
   "outputs": [],
   "source": [
    "#make image patch of 16*16*16\n",
    "\n",
    "all_PET_patches=list()\n",
    "for PET_img in image_list:\n",
    "    patches = torch.from_numpy(PET_img).unfold(0, size, stride).unfold(1, size, stride).unfold(2, size, stride)\n",
    "    reshaped_patches=patches.reshape(-1,size,size,size).numpy()\n",
    "    all_PET_patches.append(reshaped_patches)\n",
    "all_PET_patches=np.asarray(all_PET_patches).reshape(-1,size,size,size)"
   ]
  },
  {
   "cell_type": "code",
   "execution_count": 25,
   "metadata": {},
   "outputs": [
    {
     "name": "stdout",
     "output_type": "stream",
     "text": [
      "(12800, 16, 16, 16)\n"
     ]
    }
   ],
   "source": [
    "print (all_PET_patches.shape) #number of patches * pactch dim1 * patch dim2 * patch dim3\n",
    "patch_mean=np.mean(all_PET_patches , axis=0)\n",
    "patch_std=np.std(all_PET_patches , axis=0)"
   ]
  },
  {
   "cell_type": "code",
   "execution_count": 26,
   "metadata": {},
   "outputs": [],
   "source": [
    "class HN_Dataset(Dataset):\n",
    "    def __init__(self, transform=tv.transforms.Compose(tv.transforms.ToTensor())):\n",
    "        self.labels = all_labels\n",
    "        self.images=all_PET_patches\n",
    "        self.transform = transform\n",
    "        self.mode='None'\n",
    "    def __len__(self):\n",
    "        return len(all_labels)\n",
    "\n",
    "    def __getitem__(self, idx):\n",
    "\n",
    "        label= torch.from_numpy(np.asarray(self.labels[idx]))\n",
    "        \n",
    "        if self.transform is not None:\n",
    "            PET_data = self.transform(self.images[idx])\n",
    "        return (PET_data, label)"
   ]
  },
  {
   "cell_type": "code",
   "execution_count": 28,
   "metadata": {},
   "outputs": [],
   "source": [
    "split_threshold=10000  # to split test and train set (10000 out of 12800 for train set)\n",
    "batch_size = 64\n",
    "\n",
    "# Load Data\n",
    "\n",
    "idx = list(range(len(all_labels)))\n",
    "\n",
    "dataset = HN_Dataset( transform=tv.transforms.ToTensor())\n",
    "train_set = DT.Subset(dataset, idx[:split_threshold])\n",
    "test_set = DT.Subset(dataset, idx[split_threshold:])\n",
    "\n",
    "#train_set, test_set = torch.utils.data.random_split(dataset, [10000, 2800])\n",
    "\n",
    "train_set.transform= tv.transforms.Compose([#tv.transforms.RandomHorizontalFlip(),\n",
    "                                            #tv.transforms.RandomVerticalFlip(),\n",
    "                                            tv.transforms.ToTensor(),\n",
    "                                            tv.transforms.Normalize(patch_mean, patch_std)\n",
    "                                           ])\n",
    "\n",
    "#tv.transforms.RandomRotation(180),\n",
    "\n",
    "train_loader = DataLoader(train_set, batch_size=batch_size, shuffle=True)\n",
    "test_loader = DataLoader(test_set, batch_size=batch_size, shuffle=False)\n"
   ]
  },
  {
   "cell_type": "code",
   "execution_count": null,
   "metadata": {},
   "outputs": [],
   "source": []
  },
  {
   "cell_type": "code",
   "execution_count": 29,
   "metadata": {},
   "outputs": [],
   "source": [
    "class CNN_conv2d(nn.Module):\n",
    "    def __init__(self, in_channels=16, num_classes=1):\n",
    "        super(CNN_conv2d, self).__init__()\n",
    "        self.conv1 = nn.Conv2d(\n",
    "            in_channels=16,\n",
    "            out_channels=32,\n",
    "            kernel_size=(5,5),\n",
    "            stride=(2, 2),\n",
    "            padding=(1, 1),\n",
    "        )\n",
    "        self.conv2 = nn.Conv2d(\n",
    "            in_channels=32,\n",
    "            out_channels=16,\n",
    "            kernel_size=(3 ,3),\n",
    "            stride=(1, 1),\n",
    "            padding=(1, 1),\n",
    "        )\n",
    "        self.conv3 = nn.Conv2d(\n",
    "            in_channels=16,\n",
    "            out_channels=8,\n",
    "            kernel_size=(3 ,3),\n",
    "            stride=(1, 1),\n",
    "            #padding=(1, 1),\n",
    "        )\n",
    "\n",
    "        \n",
    "        self.pool = nn.MaxPool2d(kernel_size=(2, 2), stride=(2, 2))\n",
    "        \n",
    "        self.fc1 = nn.Linear(16 * 1 * 1, num_classes)\n",
    "        self.fc2 = nn.Linear(8, num_classes)\n",
    "        \n",
    "        self.sig=nn.Sigmoid()\n",
    "        \n",
    "        self.BatchNorm64=nn.BatchNorm2d(64)\n",
    "        self.BatchNorm32=nn.BatchNorm2d(32)\n",
    "        self.BatchNorm8=nn.BatchNorm2d(8)\n",
    "        self.BatchNorm128=nn.BatchNorm2d(128)\n",
    "        self.BatchNorm16=nn.BatchNorm2d(16)\n",
    "        self.layernorm1=nn.LayerNorm((64, 16, 16))\n",
    "        self.layernorm2=nn.LayerNorm((32, 8, 8))\n",
    "        self.layernorm3=nn.LayerNorm((16, 4, 4))\n",
    "        \n",
    "        self.dropout= nn.Dropout(p=0.25)\n",
    "        \n",
    "        self.initialize_weights()\n",
    "\n",
    "        \n",
    "    def forward(self, x):\n",
    "        x = F.leaky_relu(self.conv1(x))\n",
    "        #x= self.layernorm1(x)\n",
    "        x = self.BatchNorm32(x)\n",
    "        x = self.pool(x)\n",
    "        x = F.leaky_relu(self.conv2(x))\n",
    "        #x = self.BatchNorm16(x)\n",
    "        #x= self.layernorm2(x)\n",
    "        x = self.pool(x)\n",
    "        x=self.dropout(x)\n",
    "        #x = F.leaky_relu(self.conv3(x))\n",
    "        #x = self.BatchNorm8(x)\n",
    "        #x= self.layernorm3(x)\n",
    "        #x = self.pool(x)\n",
    "        x = x.reshape(x.shape[0], -1)\n",
    "        x = self.fc1(x)\n",
    "        #x = self.fc2(x)\n",
    "        x=self.sig(x)\n",
    "        return x\n",
    "\n",
    "    \n",
    "\n",
    "    def initialize_weights(self):\n",
    "        for m in self.modules():\n",
    "            if isinstance(m, nn.Conv2d):\n",
    "                nn.init.xavier_normal_(m.weight)\n",
    "\n",
    "                if m.bias is not None:\n",
    "                    nn.init.constant_(m.bias, 0)\n",
    "\n",
    "            elif isinstance(m, nn.Linear):\n",
    "                nn.init.xavier_normal_(m.weight)\n",
    "                nn.init.constant_(m.bias, 0)\n"
   ]
  },
  {
   "cell_type": "code",
   "execution_count": 30,
   "metadata": {},
   "outputs": [],
   "source": [
    "# Set device\n",
    "device = torch.device(\"cuda\" if torch.cuda.is_available() else \"cpu\")\n",
    "\n",
    "# Hyperparameters\n",
    "\n",
    "num_epochs = 80\n",
    "learning_rate = 1e-3\n",
    "batch_size = 64"
   ]
  },
  {
   "cell_type": "code",
   "execution_count": null,
   "metadata": {},
   "outputs": [],
   "source": []
  },
  {
   "cell_type": "code",
   "execution_count": null,
   "metadata": {},
   "outputs": [],
   "source": [
    "coef=2\n",
    "def my_loss(scores, labels):\n",
    "    idx1=np.argwhere(labels.cpu().numpy()==0).ravel()\n",
    "    idx2=np.argwhere(labels.cpu().numpy()!=0).ravel()\n",
    "    \n",
    "    loss1 = torch.mean((scores[idx1] - labels[idx1])**2)\n",
    "    loss2 = torch.mean((scores[idx2] - labels[idx2])**2)\n",
    "    \n",
    "    if len(idx1)==0:\n",
    "        loss1=0\n",
    "        \n",
    "    if len(idx2)==0:\n",
    "        loss2=0\n",
    "    \n",
    "    \n",
    "    loss= ((loss1*len(idx1))+(coef*loss2*len(idx2)))/(len(idx1)+len(idx2))\n",
    "\n",
    "    return loss"
   ]
  },
  {
   "cell_type": "code",
   "execution_count": null,
   "metadata": {},
   "outputs": [],
   "source": [
    "#device=torch.device(\"cpu\")\n",
    "# Initialize network\n",
    "model = CNN_conv2d().to(device)\n",
    "liveloss = PlotLosses()\n",
    "\n",
    "# Loss and optimizer\n",
    "criterion=nn.MSELoss()\n",
    "#criterion=my_loss()\n",
    "\n",
    "optimizer = optim.Adam(model.parameters(), lr=learning_rate)\n",
    "\n",
    "load_module=False\n",
    "\n",
    "ref=1\n",
    "\n",
    "dataloaders = {\n",
    "    \"train\": train_loader,\n",
    "    \"validation\": test_loader\n",
    "}\n",
    "\n",
    "# Train Network\n",
    "for epoch in range(num_epochs):\n",
    "    logs = {}\n",
    "    for phase in ['train', 'validation']:\n",
    "\n",
    "        if phase == 'train':\n",
    "            model.train()\n",
    "        else:\n",
    "            model.eval()\n",
    "\n",
    "            \n",
    "        running_loss = 0.0\n",
    "        running_corrects = 0.0\n",
    "\n",
    "        for inputs, labels in dataloaders[phase]:\n",
    "            # Get data to cuda if possible\n",
    "            inputs = inputs.to(device=device)\n",
    "            labels = labels.to(device=device)\n",
    "\n",
    "            # forward\n",
    "            inputs=inputs.float()\n",
    "            scores = model(inputs)\n",
    "            labels=labels.float()\n",
    "            scores=scores.view(-1)\n",
    "\n",
    "            loss = my_loss(scores, labels)\n",
    "            loss2 = criterion(scores, labels)            \n",
    "            # backward\n",
    "            if phase == 'train':\n",
    "                optimizer.zero_grad()\n",
    "                loss.backward()\n",
    "                # gradient descent or adam step\n",
    "                optimizer.step()\n",
    "            preds=torch.round(scores)\n",
    "    \n",
    "            running_loss += loss2.detach() * inputs.size(0)\n",
    "            running_corrects += torch.sum(preds == labels.data)\n",
    "            \n",
    "        epoch_loss = running_loss / len(dataloaders[phase].dataset)\n",
    "        epoch_acc = running_corrects.float() / len(dataloaders[phase].dataset)\n",
    "        \n",
    "        #if phase == 'validation':\n",
    "        #    this_loss=(running_loss / len(dataloaders[phase].dataset)).item()\n",
    "        #    if this_loss<ref:\n",
    "        #        checkpoint = {\"state_dict\": model.state_dict(), \"optimizer\": optimizer.state_dict()}\n",
    "        #        # save checkpoint\n",
    "        #        save_checkpoint(checkpoint)\n",
    "        #        ref=this_loss\n",
    "        #        print (\"epoch {}:loss{}\".format(epoch,ref)) \n",
    "        \n",
    "        prefix = ''\n",
    "        if phase == 'validation':\n",
    "            prefix = 'val_'\n",
    "\n",
    "        logs[prefix + 'log loss'] = epoch_loss.item()\n",
    "        logs[prefix + 'log loss again!'] = epoch_loss.item()\n",
    "        #logs[prefix + 'accuracy'] = epoch_acc.item()\n",
    "        \n",
    "    liveloss.update(logs)\n",
    "    liveloss.send()\n",
    "\n"
   ]
  },
  {
   "cell_type": "code",
   "execution_count": null,
   "metadata": {},
   "outputs": [],
   "source": [
    "#load_checkpoint(torch.load(\"my_checkpoint_V3.pth.tar\"), model, optimizer)\n"
   ]
  },
  {
   "cell_type": "code",
   "execution_count": null,
   "metadata": {},
   "outputs": [],
   "source": []
  },
  {
   "cell_type": "code",
   "execution_count": null,
   "metadata": {
    "scrolled": true
   },
   "outputs": [],
   "source": [
    "#MAIN\n",
    "#device = torch.device(\"cpu\")\n",
    "num_epochs = 81\n",
    "# Initialize network\n",
    "\n",
    "model = CNN_conv2d().to(device)\n",
    "\n",
    "# Loss and optimizer\n",
    "criterion=nn.MSELoss()\n",
    "\n",
    "optimizer = optim.Adam(model.parameters(), lr=learning_rate)\n",
    "load_module=False\n",
    "print(\"Current Time =\", datetime.now().strftime(\"%H:%M:%S\")) \n",
    "# Train Network\n",
    "for epoch in range(num_epochs):\n",
    "    now = datetime.now()\n",
    "    if load_module:\n",
    "        # load checkpoint\n",
    "        load_checkpoint(torch.load(\"my_checkpoint_V3_percent.pth.tar\"), model, optimizer)\n",
    "        load_module=False\n",
    "    losses = []\n",
    "    for batch_idx, (data, targets) in enumerate(train_loader):\n",
    "        # Get data to cuda if possible\n",
    "        data = data.to(device=device)\n",
    "        targets = targets.to(device=device)\n",
    "\n",
    "        # forward\n",
    "        data=data.float()\n",
    "        scores = model(data)\n",
    "        targets=targets.float()\n",
    "        scores=scores.view(-1)\n",
    "\n",
    "        loss = my_loss(scores, targets)\n",
    "        losses.append(loss.item())\n",
    "\n",
    "        # backward\n",
    "        optimizer.zero_grad()\n",
    "        loss.backward()\n",
    "\n",
    "        # gradient descent or adam step\n",
    "        optimizer.step()\n",
    "    if (epoch % 20==0):\n",
    "        print(f\"Cost at epoch {epoch} is {np.sum(losses)/len(losses)}\")\n",
    "        print(\"Current Time =\", now.strftime(\"%H:%M:%S\")) \n",
    "        checkpoint = {\"state_dict\": model.state_dict(), \"optimizer\": optimizer.state_dict()}\n",
    "        # save checkpoint\n",
    "        save_checkpoint(checkpoint)\n",
    "        \n"
   ]
  },
  {
   "cell_type": "code",
   "execution_count": null,
   "metadata": {},
   "outputs": [],
   "source": []
  },
  {
   "cell_type": "code",
   "execution_count": null,
   "metadata": {},
   "outputs": [],
   "source": [
    "# Check accuracy on training to see how good our model is\n",
    "\n",
    "def check_accuracy(loader, model, test_set):\n",
    "    total_mse=0\n",
    "    model.eval()\n",
    "    idx=0\n",
    "    with torch.no_grad():\n",
    "        for x, y in loader:\n",
    "            x = x.to(device=device)\n",
    "            y = y.to(device=device)\n",
    "            x=x.float()\n",
    "            scores = model(x)\n",
    "            predictions=scores\n",
    "            \n",
    "            MSE=mean_squared_error(np.ravel(predictions.cpu().numpy()),np.ravel(y.cpu().numpy()))\n",
    "            total_mse=total_mse+MSE\n",
    "            idx=idx+1\n",
    "            if test_set:\n",
    "                \n",
    "                np.set_printoptions(formatter={'float': '{: 0.3f}'.format})\n",
    "                print (\"labels:       \",np.ravel(y.cpu().numpy()))\n",
    "                print (\"predictions:  \",np.ravel((predictions.cpu().numpy())))\n",
    "                print (\"mean_squared_error\",MSE)\n",
    "                #print (\"r2_score\",r2_score(np.ravel(predictions.cpu().numpy()),np.ravel(y.cpu().numpy())))\n",
    "\n",
    "    print (\"total_mse\",total_mse/idx)\n",
    "        \n",
    "    model.train()\n"
   ]
  },
  {
   "cell_type": "code",
   "execution_count": null,
   "metadata": {},
   "outputs": [],
   "source": [
    "print(\"Checking accuracy on Training Set\")\n",
    "check_accuracy(train_loader, model ,test_set=False)\n",
    "\n",
    "print(\"Checking accuracy on Test Set\")\n",
    "check_accuracy(test_loader, model, test_set=False)"
   ]
  },
  {
   "cell_type": "code",
   "execution_count": null,
   "metadata": {},
   "outputs": [],
   "source": []
  },
  {
   "cell_type": "code",
   "execution_count": null,
   "metadata": {},
   "outputs": [],
   "source": [
    "print(\"Checking accuracy on Test Set\")\n",
    "check_accuracy(test_loader, model, test_set=True)"
   ]
  },
  {
   "cell_type": "code",
   "execution_count": null,
   "metadata": {},
   "outputs": [],
   "source": []
  },
  {
   "cell_type": "code",
   "execution_count": 33,
   "metadata": {},
   "outputs": [],
   "source": [
    "#method to add radon noise to images\n",
    "\n",
    "PEAK=100\n",
    "def make_noisy_image(image):\n",
    "    img=np.zeros(image.shape)\n",
    "    for idx, _2d_img in enumerate(image):  \n",
    "        \n",
    "        theta = np.linspace(0., 180., max(_2d_img.shape), endpoint=False)\n",
    "        sinogram = radon(_2d_img, theta=theta, circle=False)\n",
    "        sinogram=np.clip(sinogram, 0,None)\n",
    "        noisy = np.random.poisson(sinogram * PEAK)/PEAK  \n",
    "        img[idx] = iradon(noisy, theta=theta, circle=False)\n",
    "    return img"
   ]
  },
  {
   "cell_type": "code",
   "execution_count": 34,
   "metadata": {},
   "outputs": [],
   "source": [
    "#again load all images, add padinf if needed, then add radon noise\n",
    "\n",
    "path = 'D:\\\\Master_courses\\\\Praktikum\\\\challenge\\\\hecktor\\\\data\\\\resampled\\\\'\n",
    "#_ct_gtvt.nii.gz\n",
    "#_pt.nii.gz\n",
    "files = [f for f in glob.glob(path + \"**/*_pt.nii.gz\", recursive=True)]\n",
    "noisy_image_list=list()\n",
    "\n",
    "for idx,f in enumerate(files):\n",
    "    \n",
    "    im=nib.load(f)\n",
    "    PET_data=im.get_fdata()   \n",
    "    if PET_data.shape!=(64,64,64):\n",
    "        PET_data=pad(PET_data,64)\n",
    "    PET_data=make_noisy_image(PET_data)   \n",
    "    noisy_image_list.append(PET_data)\n"
   ]
  },
  {
   "cell_type": "code",
   "execution_count": 35,
   "metadata": {},
   "outputs": [
    {
     "data": {
      "image/png": "[encoded data removed]",
      "text/plain": [
       "<Figure size 432x288 with 2 Axes>"
      ]
     },
     "metadata": {
      "needs_background": "light"
     },
     "output_type": "display_data"
    }
   ],
   "source": [
    "fig = plt.figure()\n",
    "a = fig.add_subplot(1, 2, 1)\n",
    "imgplot = plt.imshow(noisy_image_list[0][:,:,50],cmap='gray')\n",
    "a = fig.add_subplot(1, 2, 2)\n",
    "imgplot = plt.imshow(image_list[0][:,:,50],cmap='gray')\n"
   ]
  },
  {
   "cell_type": "code",
   "execution_count": 36,
   "metadata": {},
   "outputs": [],
   "source": [
    "#make image patches of size 16*16*16\n",
    "\n",
    "all_noisy_PET_patches=list()\n",
    "for PET_img in noisy_image_list:\n",
    "    patches = torch.from_numpy(PET_img).unfold(0, size, stride).unfold(1, size, stride).unfold(2, size, stride)\n",
    "    reshaped_patches=patches.reshape(-1,size,size,size).numpy()\n",
    "    all_noisy_PET_patches.append(reshaped_patches)\n",
    "all_noisy_PET_patches=np.asarray(all_noisy_PET_patches).reshape(-1,size,size,size)"
   ]
  },
  {
   "cell_type": "code",
   "execution_count": 37,
   "metadata": {},
   "outputs": [],
   "source": [
    "#class dataset of noisy images\n",
    "class noisy_HN_Dataset(Dataset):\n",
    "    def __init__(self, transform=tv.transforms.Compose(tv.transforms.ToTensor())):\n",
    "        self.labels = all_labels\n",
    "        self.images=all_noisy_PET_patches\n",
    "        self.transform = transform\n",
    "        self.mode='None'\n",
    "    def __len__(self):\n",
    "        return len(all_labels)\n",
    "\n",
    "    def __getitem__(self, idx):\n",
    "\n",
    "        label= torch.from_numpy(np.asarray(self.labels[idx]))        \n",
    "        if self.transform is not None:\n",
    "            PET_data = self.transform(self.images[idx])\n",
    "        return (PET_data, label)"
   ]
  },
  {
   "cell_type": "code",
   "execution_count": 38,
   "metadata": {},
   "outputs": [],
   "source": [
    "#making train and test set for noisy image\n",
    "\n",
    "split_threshold=10000\n",
    "idx = list(range(len(all_labels)))\n",
    "\n",
    "noisy_dataset = noisy_HN_Dataset( transform=tv.transforms.ToTensor())\n",
    "\n",
    "################################ IMPOSTANT ############################################\n",
    "#As I don't use \"randome split\" for splitting test and train set, we can easily compare results of this test set with previous one(no noise test set)\n",
    "noisy_train_set = DT.Subset(noisy_dataset, idx[:split_threshold])\n",
    "noisy_test_set = DT.Subset(noisy_dataset, idx[split_threshold:])\n",
    "\n",
    "#noisy_train_loader = DataLoader(train_set, batch_size=batch_size, shuffle=True)\n",
    "noisy_test_loader = DataLoader(noisy_test_set, batch_size=batch_size, shuffle=False)"
   ]
  },
  {
   "cell_type": "code",
   "execution_count": 39,
   "metadata": {},
   "outputs": [
    {
     "name": "stdout",
     "output_type": "stream",
     "text": [
      "Checking accuracy on Test Set\n"
     ]
    },
    {
     "ename": "NameError",
     "evalue": "name 'check_accuracy' is not defined",
     "output_type": "error",
     "traceback": [
      "\u001b[1;31m---------------------------------------------------------------------------\u001b[0m",
      "\u001b[1;31mNameError\u001b[0m                                 Traceback (most recent call last)",
      "\u001b[1;32m<ipython-input-39-c097abaff42e>\u001b[0m in \u001b[0;36m<module>\u001b[1;34m\u001b[0m\n\u001b[0;32m      1\u001b[0m \u001b[0mprint\u001b[0m\u001b[1;33m(\u001b[0m\u001b[1;34m\"Checking accuracy on Test Set\"\u001b[0m\u001b[1;33m)\u001b[0m\u001b[1;33m\u001b[0m\u001b[1;33m\u001b[0m\u001b[0m\n\u001b[1;32m----> 2\u001b[1;33m \u001b[0mcheck_accuracy\u001b[0m\u001b[1;33m(\u001b[0m\u001b[0mnoisy_test_loader\u001b[0m\u001b[1;33m,\u001b[0m \u001b[0mmodel\u001b[0m\u001b[1;33m,\u001b[0m \u001b[0mtest_set\u001b[0m\u001b[1;33m=\u001b[0m\u001b[1;32mFalse\u001b[0m\u001b[1;33m)\u001b[0m\u001b[1;33m\u001b[0m\u001b[1;33m\u001b[0m\u001b[0m\n\u001b[0m",
      "\u001b[1;31mNameError\u001b[0m: name 'check_accuracy' is not defined"
     ]
    }
   ],
   "source": [
    "print(\"Checking accuracy on Test Set\")\n",
    "check_accuracy(noisy_test_loader, model, test_set=False)"
   ]
  },
  {
   "cell_type": "code",
   "execution_count": null,
   "metadata": {},
   "outputs": [],
   "source": [
    "print(\"Checking accuracy on Test Set\")\n",
    "check_accuracy(noisy_test_loader, model, test_set=True)"
   ]
  },
  {
   "cell_type": "code",
   "execution_count": null,
   "metadata": {},
   "outputs": [],
   "source": []
  }
 ],
 "metadata": {
  "kernelspec": {
   "display_name": "Python 3",
   "language": "python",
   "name": "python3"
  },
  "language_info": {
   "codemirror_mode": {
    "name": "ipython",
    "version": 3
   },
   "file_extension": ".py",
   "mimetype": "text/x-python",
   "name": "python",
   "nbconvert_exporter": "python",
   "pygments_lexer": "ipython3",
   "version": "3.7.6"
  }
 },
 "nbformat": 4,
 "nbformat_minor": 2
}
